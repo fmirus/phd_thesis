{
 "cells": [
  {
   "cell_type": "code",
   "execution_count": 1,
   "metadata": {
    "collapsed": true
   },
   "outputs": [],
   "source": [
    "import nengo\n",
    "import numpy as np\n",
    "import nengo_spa as spa"
   ]
  },
  {
   "cell_type": "code",
   "execution_count": 6,
   "metadata": {
    "collapsed": true
   },
   "outputs": [],
   "source": [
    "D = 64   # size of semantic pointer\n",
    "N = 20   # number of terms in semantic pointer\n",
    "vocab = nengo.spa.Vocabulary(D)"
   ]
  },
  {
   "cell_type": "code",
   "execution_count": 7,
   "metadata": {},
   "outputs": [
    {
     "name": "stderr",
     "output_type": "stream",
     "text": [
      "/home/flo/anaconda3/lib/python3.6/site-packages/nengo/spa/vocab.py:114: UserWarning: Could not create a semantic pointer with max_similarity=0.10 (D=64, M=13)\n",
      "  len(self.pointers)))\n",
      "/home/flo/anaconda3/lib/python3.6/site-packages/nengo/spa/vocab.py:114: UserWarning: Could not create a semantic pointer with max_similarity=0.10 (D=64, M=16)\n",
      "  len(self.pointers)))\n",
      "/home/flo/anaconda3/lib/python3.6/site-packages/nengo/spa/vocab.py:114: UserWarning: Could not create a semantic pointer with max_similarity=0.10 (D=64, M=18)\n",
      "  len(self.pointers)))\n",
      "/home/flo/anaconda3/lib/python3.6/site-packages/nengo/spa/vocab.py:114: UserWarning: Could not create a semantic pointer with max_similarity=0.10 (D=64, M=19)\n",
      "  len(self.pointers)))\n"
     ]
    }
   ],
   "source": [
    "# generate a matrix that does the same as v1*V1+v2*V2+....\n",
    "# this is the mapping from the 20-dimensional vector to the 64-dimensional semantic pointer\n",
    "m = np.array([vocab.parse('V%d' % i).v for i in range(N)])"
   ]
  },
  {
   "cell_type": "code",
   "execution_count": 9,
   "metadata": {
    "collapsed": true
   },
   "outputs": [],
   "source": [
    "# find the inverse of m, which is a mapping from semantic pointer space back to the vector space\n",
    "n = np.linalg.pinv(m)"
   ]
  },
  {
   "cell_type": "code",
   "execution_count": 10,
   "metadata": {
    "collapsed": true
   },
   "outputs": [],
   "source": [
    "# now let's generate a random vector and do the mapping in and out\n",
    "v = np.random.uniform(-1, 1, N)\n",
    "ptr = np.dot(v,m)       # map to semantic pointer space\n",
    "v_hat = np.dot(ptr, n)  # map back to normal vector space"
   ]
  },
  {
   "cell_type": "code",
   "execution_count": 11,
   "metadata": {},
   "outputs": [
    {
     "name": "stdout",
     "output_type": "stream",
     "text": [
      "1.4124672056913202e-15\n"
     ]
    }
   ],
   "source": [
    "# compute the rmse\n",
    "rmse = np.sqrt(np.mean((v-v_hat)**2))\n",
    "print(rmse)"
   ]
  },
  {
   "cell_type": "code",
   "execution_count": 13,
   "metadata": {},
   "outputs": [
    {
     "name": "stdout",
     "output_type": "stream",
     "text": [
      "[ 0.16046521  0.15485395  0.72466721 -0.13801386 -0.86136646  0.23049692\n",
      " -0.04108074 -0.37344683 -0.19869785 -0.01733942 -0.17487364 -0.81959249\n",
      " -0.68893502 -0.26774095 -0.54823521  0.68121176  0.21347918 -0.87403489\n",
      "  0.28745027  0.93408624]\n",
      "[ 0.16046521  0.15485395  0.72466721 -0.13801386 -0.86136646  0.23049692\n",
      " -0.04108074 -0.37344683 -0.19869785 -0.01733942 -0.17487364 -0.81959249\n",
      " -0.68893502 -0.26774095 -0.54823521  0.68121176  0.21347918 -0.87403489\n",
      "  0.28745027  0.93408624]\n"
     ]
    }
   ],
   "source": [
    "print(v)\n",
    "print(v_hat)"
   ]
  },
  {
   "cell_type": "code",
   "execution_count": 9,
   "metadata": {},
   "outputs": [
    {
     "name": "stdout",
     "output_type": "stream",
     "text": [
      "(64,)\n"
     ]
    }
   ],
   "source": [
    "print(ptr.shape)"
   ]
  },
  {
   "cell_type": "code",
   "execution_count": null,
   "metadata": {
    "collapsed": true
   },
   "outputs": [],
   "source": []
  }
 ],
 "metadata": {
  "kernelspec": {
   "display_name": "Python 3",
   "language": "python",
   "name": "python3"
  },
  "language_info": {
   "codemirror_mode": {
    "name": "ipython",
    "version": 3
   },
   "file_extension": ".py",
   "mimetype": "text/x-python",
   "name": "python",
   "nbconvert_exporter": "python",
   "pygments_lexer": "ipython3",
   "version": "3.6.8"
  }
 },
 "nbformat": 4,
 "nbformat_minor": 2
}
