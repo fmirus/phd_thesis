{
 "cells": [
  {
   "cell_type": "code",
   "execution_count": 1,
   "metadata": {},
   "outputs": [],
   "source": [
    "import numpy as np\n",
    "import nengo\n",
    "import nengo_spa as spa"
   ]
  },
  {
   "cell_type": "code",
   "execution_count": 2,
   "metadata": {
    "collapsed": true
   },
   "outputs": [],
   "source": [
    "D = 256"
   ]
  },
  {
   "cell_type": "code",
   "execution_count": 3,
   "metadata": {
    "collapsed": true
   },
   "outputs": [],
   "source": [
    "vocab = spa.vocab.Vocabulary(D)"
   ]
  },
  {
   "cell_type": "code",
   "execution_count": 4,
   "metadata": {},
   "outputs": [],
   "source": [
    "vocab.populate('''DRIVE;MUSCLE;MOTOR;ACTUATOR;LEG;WHEEL;TWO;FOUR''')"
   ]
  },
  {
   "cell_type": "code",
   "execution_count": 5,
   "metadata": {},
   "outputs": [
    {
     "data": {
      "text/plain": [
       "['DRIVE', 'MUSCLE', 'MOTOR', 'ACTUATOR', 'LEG', 'WHEEL', 'TWO', 'FOUR']"
      ]
     },
     "execution_count": 5,
     "metadata": {},
     "output_type": "execute_result"
    }
   ],
   "source": [
    "list(vocab.keys())"
   ]
  },
  {
   "cell_type": "code",
   "execution_count": 6,
   "metadata": {
    "collapsed": true
   },
   "outputs": [],
   "source": [
    "vocab.populate('''PEDESTRIAN=DRIVE*MUSCLE+ACTUATOR*LEG*TWO''')"
   ]
  },
  {
   "cell_type": "code",
   "execution_count": 7,
   "metadata": {
    "collapsed": true
   },
   "outputs": [],
   "source": [
    "vocab.populate('''BICYCLE=DRIVE*MUSCLE+ACTUATOR*WHEEL*TWO''')"
   ]
  },
  {
   "cell_type": "code",
   "execution_count": 8,
   "metadata": {
    "collapsed": true
   },
   "outputs": [],
   "source": [
    "vocab.populate('''MOTORCYCLE=DRIVE*MOTOR+ACTUATOR*WHEEL*TWO''')"
   ]
  },
  {
   "cell_type": "code",
   "execution_count": 9,
   "metadata": {
    "collapsed": true
   },
   "outputs": [],
   "source": [
    "vocab.populate('''CAR=DRIVE*MOTOR+ACTUATOR*WHEEL*FOUR''')"
   ]
  },
  {
   "cell_type": "code",
   "execution_count": 10,
   "metadata": {},
   "outputs": [
    {
     "data": {
      "text/plain": [
       "['DRIVE',\n",
       " 'MUSCLE',\n",
       " 'MOTOR',\n",
       " 'ACTUATOR',\n",
       " 'LEG',\n",
       " 'WHEEL',\n",
       " 'TWO',\n",
       " 'FOUR',\n",
       " 'PEDESTRIAN',\n",
       " 'BICYCLE',\n",
       " 'MOTORCYCLE',\n",
       " 'CAR']"
      ]
     },
     "execution_count": 10,
     "metadata": {},
     "output_type": "execute_result"
    }
   ],
   "source": [
    "list(vocab.keys())"
   ]
  },
  {
   "cell_type": "code",
   "execution_count": 31,
   "metadata": {},
   "outputs": [],
   "source": [
    "l = ['PEDESTRIAN', 'BICYCLE', 'MOTORCYCLE', 'CAR']\n",
    "sim = np.zeros((len(l), len(l)))\n",
    "mask = np.zeros((len(l), len(l)))\n",
    "for i,k in enumerate(l):\n",
    "    for j, other_k in enumerate(l):\n",
    "        sim[i,j] = np.abs(vocab[k].compare(vocab[other_k]))\n",
    "        if j > i:\n",
    "            mask[i,j] = True\n",
    "        "
   ]
  },
  {
   "cell_type": "code",
   "execution_count": 37,
   "metadata": {
    "collapsed": true
   },
   "outputs": [],
   "source": [
    "import seaborn as sns\n",
    "import matplotlib.pyplot as plt\n",
    "from matplotlib import cm"
   ]
  },
  {
   "cell_type": "code",
   "execution_count": 42,
   "metadata": {},
   "outputs": [
    {
     "data": {
      "text/plain": [
       "(array([0.5, 1.5, 2.5, 3.5]), <a list of 4 Text yticklabel objects>)"
      ]
     },
     "execution_count": 42,
     "metadata": {},
     "output_type": "execute_result"
    },
    {
     "data": {
      "image/png": "[encoded data removed]",
      "text/plain": [
       "<Figure size 864x432 with 2 Axes>"
      ]
     },
     "metadata": {},
     "output_type": "display_data"
    }
   ],
   "source": [
    "%matplotlib inline\n",
    "fig = plt.figure(figsize=(12,6))\n",
    "sns.heatmap(sim, annot=True, xticklabels=l, yticklabels=l, square=True, mask=mask, cmap=cm.plasma, cbar_kws={'label': 'Similarity'})\n",
    "plt.yticks(rotation=0) "
   ]
  },
  {
   "cell_type": "code",
   "execution_count": null,
   "metadata": {
    "collapsed": true
   },
   "outputs": [],
   "source": []
  }
 ],
 "metadata": {
  "kernelspec": {
   "display_name": "Python 3",
   "language": "python",
   "name": "python3"
  },
  "language_info": {
   "codemirror_mode": {
    "name": "ipython",
    "version": 3
   },
   "file_extension": ".py",
   "mimetype": "text/x-python",
   "name": "python",
   "nbconvert_exporter": "python",
   "pygments_lexer": "ipython3",
   "version": "3.6.3"
  }
 },
 "nbformat": 4,
 "nbformat_minor": 2
}
